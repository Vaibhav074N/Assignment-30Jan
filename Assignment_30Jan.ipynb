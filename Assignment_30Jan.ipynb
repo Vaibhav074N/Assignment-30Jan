{
  "nbformat": 4,
  "nbformat_minor": 0,
  "metadata": {
    "colab": {
      "provenance": [],
      "authorship_tag": "ABX9TyMeMPXcpooFqQpHfAJg2DA8",
      "include_colab_link": true
    },
    "kernelspec": {
      "name": "python3",
      "display_name": "Python 3"
    },
    "language_info": {
      "name": "python"
    }
  },
  "cells": [
    {
      "cell_type": "markdown",
      "metadata": {
        "id": "view-in-github",
        "colab_type": "text"
      },
      "source": [
        "<a href=\"https://colab.research.google.com/github/Vaibhav074N/Assignment-30Jan/blob/main/Assignment_30Jan.ipynb\" target=\"_parent\"><img src=\"https://colab.research.google.com/assets/colab-badge.svg\" alt=\"Open In Colab\"/></a>"
      ]
    },
    {
      "cell_type": "markdown",
      "source": [
        "#####Q1."
      ],
      "metadata": {
        "id": "l0TXMKvZoDkl"
      }
    },
    {
      "cell_type": "code",
      "source": [
        "marks=int(input(\"Enter a percentage:\"))\n",
        "if marks>90:\n",
        "  print(\"Grade A\")\n",
        "elif marks>80 and marks<=90:\n",
        "  print(\"Grade B\")\n",
        "elif marks>=60 and marks<=80:\n",
        "  print(\"Grade C\")\n",
        "else:\n",
        "  print(\"Grade D\")\n"
      ],
      "metadata": {
        "colab": {
          "base_uri": "https://localhost:8080/"
        },
        "id": "yvG12XiIoH8E",
        "outputId": "e1665d87-eceb-4fc8-b011-ba10d26d06ce"
      },
      "execution_count": null,
      "outputs": [
        {
          "output_type": "stream",
          "name": "stdout",
          "text": [
            "Enter a percentage:59\n",
            "Grade D\n"
          ]
        }
      ]
    },
    {
      "cell_type": "markdown",
      "source": [
        "#####Q2.\n"
      ],
      "metadata": {
        "id": "8H7Asv7fqBI9"
      }
    },
    {
      "cell_type": "code",
      "source": [
        "cost_price=int(input(\"Enter cost price:\"))\n",
        "if cost_price>100000:\n",
        "  print('Tax to be pay is: 15%')\n",
        "elif cost_price>50000 and cost_price<=100000:\n",
        "  print('Tax to be pay is: 10%')\n",
        "else:\n",
        "  print('Tax to be pay is: 5%')\n"
      ],
      "metadata": {
        "colab": {
          "base_uri": "https://localhost:8080/"
        },
        "id": "E-d94DQLqFCk",
        "outputId": "df334ba0-e164-4a97-c4a9-06c3fde5a6e2"
      },
      "execution_count": null,
      "outputs": [
        {
          "output_type": "stream",
          "name": "stdout",
          "text": [
            "Enter cost price:50000\n",
            "Tax to be pay is: 5%\n"
          ]
        }
      ]
    },
    {
      "cell_type": "markdown",
      "source": [
        "#####Q3.\n"
      ],
      "metadata": {
        "id": "QxXR-_xjrS0S"
      }
    },
    {
      "cell_type": "code",
      "source": [
        "city = input(\"Enter a city name:\")\n",
        "if city=='Delhi':\n",
        "  print(\"Monument is: Red Fort\")\n",
        "elif city=='Agra':\n",
        "  print(\"Monument is: Taj Mahal\")\n",
        "else: \n",
        "  if city=='Jaipur':\n",
        "    print(\"Monument is: Jal Mahal\")"
      ],
      "metadata": {
        "id": "oISDKoqGrWy0",
        "colab": {
          "base_uri": "https://localhost:8080/"
        },
        "outputId": "2c6742e5-e24a-4205-d703-84c5a855a203"
      },
      "execution_count": null,
      "outputs": [
        {
          "output_type": "stream",
          "name": "stdout",
          "text": [
            "Enter a city name:Delhi\n",
            "Monument is: Red Fort\n"
          ]
        }
      ]
    },
    {
      "cell_type": "markdown",
      "source": [
        "####Q4."
      ],
      "metadata": {
        "id": "zGP6THopY32y"
      }
    },
    {
      "cell_type": "code",
      "source": [
        "def f(n):\n",
        "    s=0\n",
        "    for digit in str(n):\n",
        "        s = s + int(digit)\n",
        "    return s\n",
        "n=input(\"enter a no.:\")\n",
        "print(\"Sum of digit: \",f(n))\n",
        "if f(n)%3==0:\n",
        "    a=int(n)/3\n",
        "    print(\"number is divisible by three:\",a)\n"
      ],
      "metadata": {
        "colab": {
          "base_uri": "https://localhost:8080/"
        },
        "id": "lyIAeO2gk5AS",
        "outputId": "30bf68a1-0d6e-4bf1-c791-cfbdbbfed250"
      },
      "execution_count": 2,
      "outputs": [
        {
          "output_type": "stream",
          "name": "stdout",
          "text": [
            "enter a no.:66\n",
            "Sum of digit:  12\n",
            "number is divisible by three: 22.0\n"
          ]
        }
      ]
    },
    {
      "cell_type": "markdown",
      "source": [
        "#####Q5.\n",
        "#####Ans:\n",
        "##### A loop that runs a single statement or a set of statements for a given true condition.This loop is represented by the keyworrd 'while' when the number of iterations is unknown,a while loop is used.The statement is repeated until the boolean value is false.Because the condition is tested at the beginning of a while loop, it is also known as the pre-test loop."
      ],
      "metadata": {
        "id": "DO8Qc0EIlQqg"
      }
    },
    {
      "cell_type": "code",
      "source": [
        "#Ex : program to calculate the sum of numbers until the user enters zero.\n",
        "total=0\n",
        "number=int(input(\"enter a no.:\"))\n",
        "while number != 0:\n",
        "  total += number\n",
        "  number=int(input(\"enter a no.:\"))\n",
        "\n",
        "print('total=',total)"
      ],
      "metadata": {
        "colab": {
          "base_uri": "https://localhost:8080/"
        },
        "id": "7J_l4OKrm3ub",
        "outputId": "97ae7201-d5fa-45e2-c00a-5ce6aa3d835a"
      },
      "execution_count": 3,
      "outputs": [
        {
          "output_type": "stream",
          "name": "stdout",
          "text": [
            "enter a no.:6\n",
            "enter a no.:7\n",
            "enter a no.:3\n",
            "enter a no.:4\n",
            "enter a no.:5\n",
            "enter a no.:0\n",
            "total= 25\n"
          ]
        }
      ]
    },
    {
      "cell_type": "markdown",
      "source": [
        "######Q6."
      ],
      "metadata": {
        "id": "q2Z8ZBXqoHAh"
      }
    },
    {
      "cell_type": "code",
      "source": [
        "n= int(input(\"enter no. of rows:\"))\n",
        "i=1\n",
        "while i<=n:\n",
        "    j=1\n",
        "    while j<=i:\n",
        "        print(\"*\",end=' ')\n",
        "        j =j+1\n",
        "    print()\n",
        "    i=i+1"
      ],
      "metadata": {
        "colab": {
          "base_uri": "https://localhost:8080/"
        },
        "id": "YaQGksCooGk9",
        "outputId": "4d4874ed-5949-4e69-e402-1346eedc58d7"
      },
      "execution_count": 4,
      "outputs": [
        {
          "output_type": "stream",
          "name": "stdout",
          "text": [
            "enter no. of rows:6\n",
            "* \n",
            "* * \n",
            "* * * \n",
            "* * * * \n",
            "* * * * * \n",
            "* * * * * * \n"
          ]
        }
      ]
    },
    {
      "cell_type": "code",
      "source": [
        "n=int(input(\"enter no. of rows:\"))\n",
        "i=1\n",
        "while i<=n:\n",
        "    j=n\n",
        "    while j>=i:\n",
        "        print(\"*\",end=' ')\n",
        "        j = j-1\n",
        "    print()\n",
        "    i =i+1\n"
      ],
      "metadata": {
        "colab": {
          "base_uri": "https://localhost:8080/"
        },
        "id": "iuX7_B7hobuz",
        "outputId": "7baf30c0-609e-41a9-de15-5e24090bb3bc"
      },
      "execution_count": 5,
      "outputs": [
        {
          "output_type": "stream",
          "name": "stdout",
          "text": [
            "enter no. of rows:8\n",
            "* * * * * * * * \n",
            "* * * * * * * \n",
            "* * * * * * \n",
            "* * * * * \n",
            "* * * * \n",
            "* * * \n",
            "* * \n",
            "* \n"
          ]
        }
      ]
    },
    {
      "cell_type": "code",
      "source": [
        "n=int(input(\"enter no. of rows:\"))\n",
        "k=1\n",
        "i=1\n",
        "while i<=n:\n",
        "    j=1\n",
        "    while j<=i:\n",
        "        print(\"{:3d}\".format(k),end=\" \")\n",
        "        j += 1\n",
        "        k += 1\n",
        "    print()\n",
        "    i += 1"
      ],
      "metadata": {
        "colab": {
          "base_uri": "https://localhost:8080/"
        },
        "id": "qU_J2JFPolGs",
        "outputId": "37e0c9e5-89fd-4ffc-ac14-dc043ffa8ee1"
      },
      "execution_count": 6,
      "outputs": [
        {
          "output_type": "stream",
          "name": "stdout",
          "text": [
            "enter no. of rows:7\n",
            "  1 \n",
            "  2   3 \n",
            "  4   5   6 \n",
            "  7   8   9  10 \n",
            " 11  12  13  14  15 \n",
            " 16  17  18  19  20  21 \n",
            " 22  23  24  25  26  27  28 \n"
          ]
        }
      ]
    },
    {
      "cell_type": "markdown",
      "source": [
        "#####Q7."
      ],
      "metadata": {
        "id": "k4xn6Iv1o0xc"
      }
    },
    {
      "cell_type": "code",
      "source": [
        "# Revrse order\n",
        "i=int(input(\"enter a no.:\"))\n",
        "while i>0:\n",
        "    print(i)\n",
        "    i = i-1"
      ],
      "metadata": {
        "colab": {
          "base_uri": "https://localhost:8080/"
        },
        "id": "icGL8by-o2e7",
        "outputId": "de7f4198-e235-4d85-8b8f-4aeb423ae88c"
      },
      "execution_count": 13,
      "outputs": [
        {
          "output_type": "stream",
          "name": "stdout",
          "text": [
            "enter a no.:10\n",
            "10\n",
            "9\n",
            "8\n",
            "7\n",
            "6\n",
            "5\n",
            "4\n",
            "3\n",
            "2\n",
            "1\n"
          ]
        }
      ]
    },
    {
      "cell_type": "code",
      "source": [
        "# Straight order\n",
        "i=1\n",
        "while i<=10:\n",
        "    print(i,end=' ')\n",
        "    i = i+1"
      ],
      "metadata": {
        "colab": {
          "base_uri": "https://localhost:8080/"
        },
        "id": "ahFsl8papNnQ",
        "outputId": "88cef31a-f8e1-4f8d-85f3-dad2a7deb0bc"
      },
      "execution_count": 9,
      "outputs": [
        {
          "output_type": "stream",
          "name": "stdout",
          "text": [
            "1 2 3 4 5 6 7 8 9 10 "
          ]
        }
      ]
    }
  ]
}